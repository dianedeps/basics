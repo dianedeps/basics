{
 "cells": [
  {
   "attachments": {},
   "cell_type": "markdown",
   "metadata": {},
   "source": [
    "# Basics for python"
   ]
  },
  {
   "attachments": {},
   "cell_type": "markdown",
   "metadata": {},
   "source": [
    "1. Variables"
   ]
  },
  {
   "cell_type": "code",
   "execution_count": null,
   "metadata": {},
   "outputs": [],
   "source": [
    "x = 'chocolate'\n",
    "y = 22\n",
    "\n",
    "x,y,z = 'chocolate', 'vanilla', 'rocky road'\n",
    "\n",
    "ice_cream = ['chocolate', 'vanilla', 'rocky road']\n",
    "\n",
    "x,y,z = ice_cream\n",
    "\n",
    "print(x)\n",
    "print(y)\n",
    "print(z)"
   ]
  },
  {
   "cell_type": "code",
   "execution_count": null,
   "metadata": {},
   "outputs": [],
   "source": [
    "type(y)"
   ]
  },
  {
   "cell_type": "markdown",
   "metadata": {},
   "source": [
    "1.1. Best practices on naming a variable"
   ]
  },
  {
   "cell_type": "code",
   "execution_count": null,
   "metadata": {},
   "outputs": [],
   "source": [
    "# Camel case\n",
    "testVariableCase = 'some string'\n",
    "\n",
    "# Pascal case\n",
    "TestVariableCase = 'some string'\n",
    "\n",
    "# Snake case\n",
    "test_variable_case = 'some string'"
   ]
  },
  {
   "attachments": {},
   "cell_type": "markdown",
   "metadata": {},
   "source": [
    "2. Data types"
   ]
  },
  {
   "cell_type": "code",
   "execution_count": null,
   "metadata": {},
   "outputs": [],
   "source": [
    "# int\n",
    "type(-12)\n",
    "\n",
    "# float\n",
    "type(10.25)\n",
    "\n",
    "# complex\n",
    "type(12 + 3j)"
   ]
  },
  {
   "cell_type": "code",
   "execution_count": null,
   "metadata": {},
   "outputs": [],
   "source": [
    "# boolean or bool\n",
    "type(1 > 5)"
   ]
  },
  {
   "cell_type": "code",
   "execution_count": null,
   "metadata": {},
   "outputs": [],
   "source": [
    "# str\n",
    "'Single Quote'\n",
    "\n",
    "\"Double Quote\"\n",
    "\n",
    "\"\"\"\n",
    "Multiline text\n",
    "Where I can add \n",
    "tons of rows in here\n",
    "\"\"\"\n",
    "\n",
    "\"I've always knew.\""
   ]
  },
  {
   "cell_type": "code",
   "execution_count": null,
   "metadata": {},
   "outputs": [],
   "source": [
    "a = 'Hello world!'\n",
    "print(a[:5])\n",
    "print(a[6])\n",
    "\n",
    "a*3\n",
    "a+a"
   ]
  },
  {
   "cell_type": "code",
   "execution_count": null,
   "metadata": {},
   "outputs": [],
   "source": [
    "# list\n",
    "[1,2,3]\n",
    "\n",
    "ice_cream = ['cookie dough', 'strawberry', 'chocolate']\n",
    "\n",
    "# add value\n",
    "ice_cream.append('salted caramel')\n",
    "\n",
    "# overwrite value\n",
    "ice_cream[0] = 'butter pecan'\n",
    "\n",
    "ice_cream"
   ]
  },
  {
   "cell_type": "code",
   "execution_count": null,
   "metadata": {},
   "outputs": [],
   "source": [
    "nest_list = ['vanilla', 3, ['scoops', 'spoon'], True]\n",
    "\n",
    "# access value into nested list\n",
    "nest_list[2][1]"
   ]
  },
  {
   "cell_type": "code",
   "execution_count": null,
   "metadata": {},
   "outputs": [],
   "source": [
    "# tuple\n",
    "tuple_scoops = (1,2,3,2,1)\n",
    "\n",
    "tuple_scoops[0]\n",
    "\n",
    "# can't change a tuple\n",
    "tuple_scoops.append(3)"
   ]
  },
  {
   "cell_type": "code",
   "execution_count": null,
   "metadata": {},
   "outputs": [],
   "source": [
    "# set\n",
    "\n",
    "daily_pints = {1,2,3}\n",
    "\n",
    "daily_pints_log = {1,2,31,2,3,4,1,2,5,6,3,2}\n",
    "\n",
    "# only the unique values, always ordered\n",
    "print(daily_pints_log)"
   ]
  },
  {
   "cell_type": "code",
   "execution_count": null,
   "metadata": {},
   "outputs": [],
   "source": [
    "other_daily_pints_log = {1,3,5,7,3,24,5,7,3,2,0}\n",
    "\n",
    "# unique values in both sets\n",
    "print(daily_pints_log | other_daily_pints_log)"
   ]
  },
  {
   "cell_type": "code",
   "execution_count": null,
   "metadata": {},
   "outputs": [],
   "source": [
    "# matching values in both sets\n",
    "print(daily_pints_log & other_daily_pints_log)"
   ]
  },
  {
   "cell_type": "code",
   "execution_count": null,
   "metadata": {},
   "outputs": [],
   "source": [
    "# left only unique values\n",
    "print(daily_pints_log - other_daily_pints_log)"
   ]
  },
  {
   "cell_type": "code",
   "execution_count": null,
   "metadata": {},
   "outputs": [],
   "source": [
    "# left only unique values (moving right to left now)\n",
    "print(other_daily_pints_log - daily_pints_log)"
   ]
  },
  {
   "cell_type": "code",
   "execution_count": null,
   "metadata": {},
   "outputs": [],
   "source": [
    "# one or other, not in both\n",
    "print(other_daily_pints_log ^ daily_pints_log)"
   ]
  },
  {
   "cell_type": "code",
   "execution_count": null,
   "metadata": {},
   "outputs": [],
   "source": [
    "# dictionaries\n",
    "# key/value pair\n",
    "\n",
    "dict_cream = {'name': 'Diane de Paula', \n",
    "              'weekly intake': 5, \n",
    "              'favorite ice creams': ['passionfruit', 'chocolate']}\n",
    "\n",
    "# access\n",
    "dict_cream.values()\n",
    "dict_cream.keys()\n",
    "dict_cream.items()\n",
    "\n",
    "dict_cream['name']"
   ]
  },
  {
   "cell_type": "code",
   "execution_count": null,
   "metadata": {},
   "outputs": [],
   "source": [
    "dict_cream.update({'name': 'Paulo S', \n",
    "              'weekly intake': 5, \n",
    "              'weight': 300})\n",
    "\n",
    "# del dict_cream['weight']\n",
    "\n",
    "print(dict_cream)"
   ]
  },
  {
   "attachments": {},
   "cell_type": "markdown",
   "metadata": {},
   "source": [
    "3. Operators"
   ]
  },
  {
   "cell_type": "code",
   "execution_count": null,
   "metadata": {},
   "outputs": [],
   "source": [
    "# Comparison\n",
    "\n",
    "10 == 50\n",
    "10 != 50\n",
    "10 <= 10\n",
    "10 >= 10"
   ]
  },
  {
   "cell_type": "code",
   "execution_count": null,
   "metadata": {},
   "outputs": [],
   "source": [
    "# Logical\n",
    "\n",
    "(10 > 50) and (50 > 10)\n",
    "(10 > 50) or (50 > 10)\n",
    "\n",
    "('Vanilla' > 'Chocolate') and (50 > 10)\n",
    "\n",
    "not(50 > 10)"
   ]
  },
  {
   "cell_type": "code",
   "execution_count": null,
   "metadata": {},
   "outputs": [],
   "source": [
    "# Membership\n",
    "\n",
    "ice_cream = 'I love chocolate ice cream'\n",
    "\n",
    "'love' in ice_cream\n",
    "\n",
    "'love' not in ice_cream"
   ]
  },
  {
   "attachments": {},
   "cell_type": "markdown",
   "metadata": {},
   "source": [
    "4. If - Elif - Else Statements"
   ]
  },
  {
   "cell_type": "code",
   "execution_count": null,
   "metadata": {},
   "outputs": [],
   "source": [
    "if 25 < 10:\n",
    "    print('it worked!')\n",
    "elif 25 < 30:\n",
    "    print('elif worked!')\n",
    "else:\n",
    "    print('it didnt work...')"
   ]
  },
  {
   "attachments": {},
   "cell_type": "markdown",
   "metadata": {},
   "source": [
    "5. For Loops"
   ]
  },
  {
   "cell_type": "code",
   "execution_count": null,
   "metadata": {},
   "outputs": [],
   "source": [
    "integers = [1,2,3,4,5]\n",
    "\n",
    "for i in (integers[:len(integers)-1]):\n",
    "    print(i)"
   ]
  },
  {
   "cell_type": "code",
   "execution_count": null,
   "metadata": {},
   "outputs": [],
   "source": [
    "dict_ice_cream = {'name': 'Diane de Paula', \n",
    "                  'weekly intake': 5, \n",
    "                  'favorite ice creams': ['passionfruit', 'chocolate']}\n",
    "\n",
    "for key, value in dict_ice_cream.items():\n",
    "    print(key, '->', value)"
   ]
  },
  {
   "cell_type": "code",
   "execution_count": null,
   "metadata": {},
   "outputs": [],
   "source": [
    "# nested for loops\n",
    "\n",
    "flavors = ['vanilla', 'chocolate', 'cookie dough']\n",
    "toppings = ['hot fudge', 'oreos', 'marshmallows']\n",
    "\n",
    "for one in flavors:\n",
    "    for two in toppings:\n",
    "        print(one, 'topped with', two)"
   ]
  },
  {
   "attachments": {},
   "cell_type": "markdown",
   "metadata": {},
   "source": [
    "6. While loops"
   ]
  },
  {
   "cell_type": "code",
   "execution_count": null,
   "metadata": {},
   "outputs": [],
   "source": [
    "number = 0\n",
    "\n",
    "while number < 5:\n",
    "    print(number)\n",
    "\n",
    "    if number == 6:\n",
    "        break\n",
    "\n",
    "    number = number + 1\n",
    "else:\n",
    "    print('no longer < 5')"
   ]
  },
  {
   "attachments": {},
   "cell_type": "markdown",
   "metadata": {},
   "source": [
    "7. Functions"
   ]
  },
  {
   "cell_type": "code",
   "execution_count": null,
   "metadata": {},
   "outputs": [],
   "source": [
    "def number_squared(number, power):\n",
    "    print(number**power)\n",
    "\n",
    "args_tuple = (5,6,1,2,8)\n",
    "\n",
    "def number_args(*number):\n",
    "    print(number[0]*number[1])"
   ]
  },
  {
   "cell_type": "code",
   "execution_count": null,
   "metadata": {},
   "outputs": [],
   "source": [
    "number_squared(5,3)"
   ]
  },
  {
   "cell_type": "code",
   "execution_count": null,
   "metadata": {},
   "outputs": [],
   "source": [
    "number_args(*args_tuple)"
   ]
  },
  {
   "attachments": {},
   "cell_type": "markdown",
   "metadata": {},
   "source": [
    "8. Converting Data Types"
   ]
  },
  {
   "cell_type": "code",
   "execution_count": null,
   "metadata": {},
   "outputs": [],
   "source": [
    "int_num = int('1')\n",
    "\n",
    "int_num"
   ]
  },
  {
   "cell_type": "code",
   "execution_count": null,
   "metadata": {},
   "outputs": [],
   "source": [
    "dict_type = {'name': 'Diane', 'age':29, 'hair': 'brown'}\n",
    "\n",
    "list(dict_type.keys())"
   ]
  }
 ],
 "metadata": {
  "kernelspec": {
   "display_name": "base",
   "language": "python",
   "name": "python3"
  },
  "language_info": {
   "codemirror_mode": {
    "name": "ipython",
    "version": 3
   },
   "file_extension": ".py",
   "mimetype": "text/x-python",
   "name": "python",
   "nbconvert_exporter": "python",
   "pygments_lexer": "ipython3",
   "version": "3.9.13"
  },
  "orig_nbformat": 4
 },
 "nbformat": 4,
 "nbformat_minor": 2
}
